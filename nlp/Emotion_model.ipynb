{
  "nbformat": 4,
  "nbformat_minor": 0,
  "metadata": {
    "colab": {
      "name": "Emotion_model.ipynb",
      "provenance": [],
      "collapsed_sections": []
    },
    "kernelspec": {
      "name": "python3",
      "display_name": "Python 3"
    },
    "language_info": {
      "name": "python"
    }
  },
  "cells": [
    {
      "cell_type": "code",
      "metadata": {
        "id": "Tap-B4j_KMyl",
        "colab": {
          "base_uri": "https://localhost:8080/"
        },
        "outputId": "e0ab252c-ae1a-4f46-a539-2a8e636e08ae"
      },
      "source": [
        "!pip install nltk\n",
        "!python -m spacy download en\n",
        "!pip install summa\n",
        "!pip install spacy\n",
        "!pip install markovify\n",
        "!pip install -m spacy download en\n",
        "!pip install pymorphy2\n",
        "\n",
        "from math import sqrt\n",
        "import copy\n",
        "\n",
        "import pandas as pd\n",
        "import numpy as np\n",
        "import markovify\n",
        "import nltk\n",
        "import spacy\n",
        "import re\n",
        "import nltk\n",
        "import warnings\n",
        "import json\n",
        "import pymorphy2\n",
        "\n",
        "import gensim\n",
        "import gensim.downloader as download_api\n",
        "from gensim.models import Word2Vec\n",
        "\n",
        "from pymystem3 import Mystem\n",
        "from string import punctuation\n",
        "from pprint import pprint\n",
        "from summa.keywords import keywords\n",
        "\n",
        "from nltk.corpus import gutenberg\n",
        "from nltk import download, sent_tokenize, word_tokenize\n",
        "from nltk.cluster.util import cosine_distance\n",
        "from nltk.corpus import stopwords\n",
        "from nltk.stem.snowball import RussianStemmer\n",
        "from nltk.tokenize import RegexpTokenizer\n",
        "\n",
        "nltk.download('gutenberg')\n",
        "nltk.download('stopwords')\n",
        "nltk.download(\"punkt\")\n",
        "nltk.download('stopwords')\n",
        "warnings.filterwarnings('ignore')\n",
        "russian_model = download_api.load('word2vec-ruscorpora-300')"
      ],
      "execution_count": 1,
      "outputs": [
        {
          "output_type": "stream",
          "name": "stdout",
          "text": [
            "Requirement already satisfied: nltk in /usr/local/lib/python3.7/dist-packages (3.2.5)\n",
            "Requirement already satisfied: six in /usr/local/lib/python3.7/dist-packages (from nltk) (1.15.0)\n",
            "Collecting en_core_web_sm==2.2.5\n",
            "  Downloading https://github.com/explosion/spacy-models/releases/download/en_core_web_sm-2.2.5/en_core_web_sm-2.2.5.tar.gz (12.0 MB)\n",
            "\u001b[K     |████████████████████████████████| 12.0 MB 8.2 MB/s \n",
            "\u001b[?25hRequirement already satisfied: spacy>=2.2.2 in /usr/local/lib/python3.7/dist-packages (from en_core_web_sm==2.2.5) (2.2.4)\n",
            "Requirement already satisfied: tqdm<5.0.0,>=4.38.0 in /usr/local/lib/python3.7/dist-packages (from spacy>=2.2.2->en_core_web_sm==2.2.5) (4.62.3)\n",
            "Requirement already satisfied: plac<1.2.0,>=0.9.6 in /usr/local/lib/python3.7/dist-packages (from spacy>=2.2.2->en_core_web_sm==2.2.5) (1.1.3)\n",
            "Requirement already satisfied: preshed<3.1.0,>=3.0.2 in /usr/local/lib/python3.7/dist-packages (from spacy>=2.2.2->en_core_web_sm==2.2.5) (3.0.5)\n",
            "Requirement already satisfied: wasabi<1.1.0,>=0.4.0 in /usr/local/lib/python3.7/dist-packages (from spacy>=2.2.2->en_core_web_sm==2.2.5) (0.8.2)\n",
            "Requirement already satisfied: cymem<2.1.0,>=2.0.2 in /usr/local/lib/python3.7/dist-packages (from spacy>=2.2.2->en_core_web_sm==2.2.5) (2.0.5)\n",
            "Requirement already satisfied: setuptools in /usr/local/lib/python3.7/dist-packages (from spacy>=2.2.2->en_core_web_sm==2.2.5) (57.4.0)\n",
            "Requirement already satisfied: requests<3.0.0,>=2.13.0 in /usr/local/lib/python3.7/dist-packages (from spacy>=2.2.2->en_core_web_sm==2.2.5) (2.23.0)\n",
            "Requirement already satisfied: thinc==7.4.0 in /usr/local/lib/python3.7/dist-packages (from spacy>=2.2.2->en_core_web_sm==2.2.5) (7.4.0)\n",
            "Requirement already satisfied: catalogue<1.1.0,>=0.0.7 in /usr/local/lib/python3.7/dist-packages (from spacy>=2.2.2->en_core_web_sm==2.2.5) (1.0.0)\n",
            "Requirement already satisfied: blis<0.5.0,>=0.4.0 in /usr/local/lib/python3.7/dist-packages (from spacy>=2.2.2->en_core_web_sm==2.2.5) (0.4.1)\n",
            "Requirement already satisfied: srsly<1.1.0,>=1.0.2 in /usr/local/lib/python3.7/dist-packages (from spacy>=2.2.2->en_core_web_sm==2.2.5) (1.0.5)\n",
            "Requirement already satisfied: murmurhash<1.1.0,>=0.28.0 in /usr/local/lib/python3.7/dist-packages (from spacy>=2.2.2->en_core_web_sm==2.2.5) (1.0.5)\n",
            "Requirement already satisfied: numpy>=1.15.0 in /usr/local/lib/python3.7/dist-packages (from spacy>=2.2.2->en_core_web_sm==2.2.5) (1.19.5)\n",
            "Requirement already satisfied: importlib-metadata>=0.20 in /usr/local/lib/python3.7/dist-packages (from catalogue<1.1.0,>=0.0.7->spacy>=2.2.2->en_core_web_sm==2.2.5) (4.8.1)\n",
            "Requirement already satisfied: zipp>=0.5 in /usr/local/lib/python3.7/dist-packages (from importlib-metadata>=0.20->catalogue<1.1.0,>=0.0.7->spacy>=2.2.2->en_core_web_sm==2.2.5) (3.6.0)\n",
            "Requirement already satisfied: typing-extensions>=3.6.4 in /usr/local/lib/python3.7/dist-packages (from importlib-metadata>=0.20->catalogue<1.1.0,>=0.0.7->spacy>=2.2.2->en_core_web_sm==2.2.5) (3.7.4.3)\n",
            "Requirement already satisfied: urllib3!=1.25.0,!=1.25.1,<1.26,>=1.21.1 in /usr/local/lib/python3.7/dist-packages (from requests<3.0.0,>=2.13.0->spacy>=2.2.2->en_core_web_sm==2.2.5) (1.24.3)\n",
            "Requirement already satisfied: certifi>=2017.4.17 in /usr/local/lib/python3.7/dist-packages (from requests<3.0.0,>=2.13.0->spacy>=2.2.2->en_core_web_sm==2.2.5) (2021.5.30)\n",
            "Requirement already satisfied: chardet<4,>=3.0.2 in /usr/local/lib/python3.7/dist-packages (from requests<3.0.0,>=2.13.0->spacy>=2.2.2->en_core_web_sm==2.2.5) (3.0.4)\n",
            "Requirement already satisfied: idna<3,>=2.5 in /usr/local/lib/python3.7/dist-packages (from requests<3.0.0,>=2.13.0->spacy>=2.2.2->en_core_web_sm==2.2.5) (2.10)\n",
            "\u001b[38;5;2m✔ Download and installation successful\u001b[0m\n",
            "You can now load the model via spacy.load('en_core_web_sm')\n",
            "\u001b[38;5;2m✔ Linking successful\u001b[0m\n",
            "/usr/local/lib/python3.7/dist-packages/en_core_web_sm -->\n",
            "/usr/local/lib/python3.7/dist-packages/spacy/data/en\n",
            "You can now load the model via spacy.load('en')\n",
            "Requirement already satisfied: summa in /usr/local/lib/python3.7/dist-packages (1.2.0)\n",
            "Requirement already satisfied: scipy>=0.19 in /usr/local/lib/python3.7/dist-packages (from summa) (1.4.1)\n",
            "Requirement already satisfied: numpy>=1.13.3 in /usr/local/lib/python3.7/dist-packages (from scipy>=0.19->summa) (1.19.5)\n",
            "Requirement already satisfied: spacy in /usr/local/lib/python3.7/dist-packages (2.2.4)\n",
            "Requirement already satisfied: preshed<3.1.0,>=3.0.2 in /usr/local/lib/python3.7/dist-packages (from spacy) (3.0.5)\n",
            "Requirement already satisfied: catalogue<1.1.0,>=0.0.7 in /usr/local/lib/python3.7/dist-packages (from spacy) (1.0.0)\n",
            "Requirement already satisfied: tqdm<5.0.0,>=4.38.0 in /usr/local/lib/python3.7/dist-packages (from spacy) (4.62.3)\n",
            "Requirement already satisfied: numpy>=1.15.0 in /usr/local/lib/python3.7/dist-packages (from spacy) (1.19.5)\n",
            "Requirement already satisfied: setuptools in /usr/local/lib/python3.7/dist-packages (from spacy) (57.4.0)\n",
            "Requirement already satisfied: requests<3.0.0,>=2.13.0 in /usr/local/lib/python3.7/dist-packages (from spacy) (2.23.0)\n",
            "Requirement already satisfied: plac<1.2.0,>=0.9.6 in /usr/local/lib/python3.7/dist-packages (from spacy) (1.1.3)\n",
            "Requirement already satisfied: cymem<2.1.0,>=2.0.2 in /usr/local/lib/python3.7/dist-packages (from spacy) (2.0.5)\n",
            "Requirement already satisfied: murmurhash<1.1.0,>=0.28.0 in /usr/local/lib/python3.7/dist-packages (from spacy) (1.0.5)\n",
            "Requirement already satisfied: srsly<1.1.0,>=1.0.2 in /usr/local/lib/python3.7/dist-packages (from spacy) (1.0.5)\n",
            "Requirement already satisfied: blis<0.5.0,>=0.4.0 in /usr/local/lib/python3.7/dist-packages (from spacy) (0.4.1)\n",
            "Requirement already satisfied: wasabi<1.1.0,>=0.4.0 in /usr/local/lib/python3.7/dist-packages (from spacy) (0.8.2)\n",
            "Requirement already satisfied: thinc==7.4.0 in /usr/local/lib/python3.7/dist-packages (from spacy) (7.4.0)\n",
            "Requirement already satisfied: importlib-metadata>=0.20 in /usr/local/lib/python3.7/dist-packages (from catalogue<1.1.0,>=0.0.7->spacy) (4.8.1)\n",
            "Requirement already satisfied: typing-extensions>=3.6.4 in /usr/local/lib/python3.7/dist-packages (from importlib-metadata>=0.20->catalogue<1.1.0,>=0.0.7->spacy) (3.7.4.3)\n",
            "Requirement already satisfied: zipp>=0.5 in /usr/local/lib/python3.7/dist-packages (from importlib-metadata>=0.20->catalogue<1.1.0,>=0.0.7->spacy) (3.6.0)\n",
            "Requirement already satisfied: idna<3,>=2.5 in /usr/local/lib/python3.7/dist-packages (from requests<3.0.0,>=2.13.0->spacy) (2.10)\n",
            "Requirement already satisfied: certifi>=2017.4.17 in /usr/local/lib/python3.7/dist-packages (from requests<3.0.0,>=2.13.0->spacy) (2021.5.30)\n",
            "Requirement already satisfied: chardet<4,>=3.0.2 in /usr/local/lib/python3.7/dist-packages (from requests<3.0.0,>=2.13.0->spacy) (3.0.4)\n",
            "Requirement already satisfied: urllib3!=1.25.0,!=1.25.1,<1.26,>=1.21.1 in /usr/local/lib/python3.7/dist-packages (from requests<3.0.0,>=2.13.0->spacy) (1.24.3)\n",
            "Requirement already satisfied: markovify in /usr/local/lib/python3.7/dist-packages (0.9.3)\n",
            "Requirement already satisfied: unidecode in /usr/local/lib/python3.7/dist-packages (from markovify) (1.3.2)\n",
            "\n",
            "Usage:   \n",
            "  pip3 install [options] <requirement specifier> [package-index-options] ...\n",
            "  pip3 install [options] -r <requirements file> [package-index-options] ...\n",
            "  pip3 install [options] [-e] <vcs project url> ...\n",
            "  pip3 install [options] [-e] <local project path> ...\n",
            "  pip3 install [options] <archive url/path> ...\n",
            "\n",
            "no such option: -m\n",
            "Requirement already satisfied: pymorphy2 in /usr/local/lib/python3.7/dist-packages (0.9.1)\n",
            "Requirement already satisfied: pymorphy2-dicts-ru<3.0,>=2.4 in /usr/local/lib/python3.7/dist-packages (from pymorphy2) (2.4.417127.4579844)\n",
            "Requirement already satisfied: dawg-python>=0.7.1 in /usr/local/lib/python3.7/dist-packages (from pymorphy2) (0.7.2)\n",
            "Requirement already satisfied: docopt>=0.6 in /usr/local/lib/python3.7/dist-packages (from pymorphy2) (0.6.2)\n",
            "[nltk_data] Downloading package gutenberg to /root/nltk_data...\n",
            "[nltk_data]   Package gutenberg is already up-to-date!\n",
            "[nltk_data] Downloading package stopwords to /root/nltk_data...\n",
            "[nltk_data]   Package stopwords is already up-to-date!\n",
            "[nltk_data] Downloading package punkt to /root/nltk_data...\n",
            "[nltk_data]   Package punkt is already up-to-date!\n",
            "[nltk_data] Downloading package stopwords to /root/nltk_data...\n",
            "[nltk_data]   Package stopwords is already up-to-date!\n"
          ]
        }
      ]
    },
    {
      "cell_type": "code",
      "metadata": {
        "id": "p5wmS_L4nDPG"
      },
      "source": [
        "emotion_list = ['отвращение', 'страх', 'злость', 'стыд', 'радость', 'горе', 'волнение', 'грусть']\n",
        "useful_pos_list = ['INFN', 'NOUN', 'ADJF', 'ADJS', 'VERB', 'ADVB']\n",
        "\n",
        "import copy\n",
        "\n",
        "def tag(word):\n",
        "  morph = pymorphy2.MorphAnalyzer(lang='ru')\n",
        "\n",
        "  w = morph.parse(word)[0].tag.POS\n",
        "  tg = copy.deepcopy(w)\n",
        "  if w == 'ADJF' or w == 'ADJS':\n",
        "    w = 'ADJ'\n",
        "  elif w == 'ADVB':\n",
        "    w = 'ADV'\n",
        "  elif w == 'INFN':\n",
        "    w = 'VERB'\n",
        "  tagged = str(word) + '_' + str(w)\n",
        "\n",
        "  return tagged\n",
        "\n",
        "#please pass text as copy of python string\n",
        "def preprocess_phrase(phrase):\n",
        "  morph = pymorphy2.MorphAnalyzer(lang='ru')\n",
        "\n",
        "  phrase = phrase.lower()\n",
        "  phrase = re.sub(r'[^\\w\\s]','', phrase) \n",
        "\n",
        "  phrase_array = phrase.split()\n",
        "  useful_phrases = []\n",
        "  for i in phrase_array:\n",
        "    cur_word = morph.parse(i)[0].normalized\n",
        "    if cur_word.tag.POS in useful_pos_list:\n",
        "      useful_phrases.append(cur_word.word)\n",
        "  return useful_phrases\n",
        "\n",
        "def get_emotion_array(phrase):\n",
        "\n",
        "  contest = preprocess_phrase(phrase)\n",
        "\n",
        "  if len(contest) == 0:\n",
        "    print(\"Недостаточно слов для анализа\")\n",
        "    return []\n",
        "\n",
        "  emotion_rank = []\n",
        "  for emotion in emotion_list:\n",
        "    cur_vec = []\n",
        "    counter = 0\n",
        "    for word in contest:\n",
        "      try:\n",
        "        score = russian_model.similarity(tag(word), tag(emotion))\n",
        "        cur_vec.append(score ** 2.5)\n",
        "        counter+=1\n",
        "      except:\n",
        "        cur_vec.append(0.0)\n",
        "    \n",
        "    if counter == 0:\n",
        "      print(\"Недостаточно слов для анализа\")\n",
        "      return []\n",
        "    cur_vec.sort(reverse=True)\n",
        "    cur_vec = cur_vec[:max(3, len(contest))]\n",
        "    cur_score = 0.0\n",
        "    for scr in cur_vec:\n",
        "      cur_score+=scr\n",
        "    cur_score/=len(cur_vec)\n",
        "    emotion_rank.append(cur_score)\n",
        "  max_score = 0.0\n",
        "  for scr in emotion_rank:\n",
        "    max_score = max(scr, max_score)\n",
        "  for i in range(len(emotion_rank)):\n",
        "    emotion_rank[i] = emotion_rank[i]/max_score\n",
        "  ans = []\n",
        "  for i in range(len(emotion_list)):\n",
        "    ans.append((emotion_list[i], emotion_rank[i]))\n",
        "  return ans\n"
      ],
      "execution_count": 59,
      "outputs": []
    },
    {
      "cell_type": "code",
      "metadata": {
        "colab": {
          "base_uri": "https://localhost:8080/"
        },
        "id": "X2ZZKoNLnDhv",
        "outputId": "0cfc3c01-e6ef-408f-f42e-7231b2acaa91"
      },
      "source": [
        "print(get_emotion_array('Я безумно хочу пиццу'))"
      ],
      "execution_count": 60,
      "outputs": [
        {
          "output_type": "stream",
          "name": "stdout",
          "text": [
            "[('отвращение', 0.8819056097826328), ('страх', 0.7709850468016959), ('злость', 0.7930077574873069), ('стыд', 0.6676257774997041), ('радость', 1.0), ('горе', 0.7975960158205192), ('волнение', 0.41319201790815047), ('грусть', 0.5263288848408975)]\n"
          ]
        }
      ]
    },
    {
      "cell_type": "code",
      "metadata": {
        "colab": {
          "base_uri": "https://localhost:8080/"
        },
        "id": "SYxAOiGXnDuG",
        "outputId": "7ef630fd-823c-41bc-e328-85088252a85a"
      },
      "source": [
        "print(get_emotion_array('Как же я нелюблю машинное обучение'))"
      ],
      "execution_count": 61,
      "outputs": [
        {
          "output_type": "stream",
          "name": "stdout",
          "text": [
            "[('отвращение', 0.3984809320371697), ('страх', 0.7204672073307211), ('злость', 0.7860605679274367), ('стыд', 0.13277793975425423), ('радость', 0.47781310812380073), ('горе', 0.08036397935808925), ('волнение', 1.0), ('грусть', 0.06592442946789252)]\n"
          ]
        }
      ]
    },
    {
      "cell_type": "code",
      "metadata": {
        "colab": {
          "base_uri": "https://localhost:8080/"
        },
        "id": "06wXvhPrnD6r",
        "outputId": "3b800e3c-e288-40e8-a950-377991808664"
      },
      "source": [
        "print(get_emotion_array('Осенний пейзаж заставил меня пустить скупую слезу'))"
      ],
      "execution_count": 62,
      "outputs": [
        {
          "output_type": "stream",
          "name": "stdout",
          "text": [
            "[('отвращение', 0.28274899145471855), ('страх', 0.35783146060261917), ('злость', 0.5283499105151671), ('стыд', 0.5158890825492591), ('радость', 0.7181388836330391), ('горе', 0.7495103231527452), ('волнение', 0.414300243825735), ('грусть', 1.0)]\n"
          ]
        }
      ]
    }
  ]
}